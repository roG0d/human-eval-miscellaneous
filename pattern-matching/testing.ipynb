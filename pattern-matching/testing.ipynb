{
 "cells": [
  {
   "cell_type": "code",
   "execution_count": 25,
   "metadata": {},
   "outputs": [
    {
     "name": "stdout",
     "output_type": "stream",
     "text": [
      "{'Python': ['[1.0, 2.0, 3.9, 4.0, 5.0, 2.2], 0.3', 'true'], 'Rust': ['[1.0, 2.0, 3.9, 4.0, 5.0, 2.2], 0.3', 'true']}\n",
      "[True, True]\n"
     ]
    }
   ],
   "source": [
    "from typing import Dict\n",
    "import transformations\n",
    "\n",
    "py_raw:str = \"assert candidate([1.0, 2.0, 3.9, 4.0, 5.0, 2.2], 0.3) == True\"\n",
    "py:list[str] = transformations.py(py_raw)\n",
    "\n",
    "rust_raw:str = \"assert_eq!(candidate(&[1.0, 2.0, 3.9, 4.0, 5.0, 2.2], 0.3), true);\"\n",
    "rust:list[str] = transformations.rust(rust_raw)\n",
    "\n",
    "asserts:Dict = transformations.save(py, rust)\n",
    "print(asserts)\n",
    "\n",
    "print(transformations.compare(asserts))"
   ]
  },
  {
   "cell_type": "code",
   "execution_count": 24,
   "metadata": {},
   "outputs": [
    {
     "name": "stdout",
     "output_type": "stream",
     "text": [
      "['[1.0, 2.0, 3.9, 4.0, 5.0, 2.2], 0.3', 'true']\n",
      "['[1.0, 2.0, 3.9, 4.0, 5.0, 2.2], 0.3', 'true']\n",
      "['[1.0, 2.0, 3.9, 4.0, 5.0, 2.2], 0.3', 'true']\n",
      "['[1.0, 2.0, 3.9, 4.0, 5.0, 2.2], 0.3', 'true']\n",
      "['[1.0, 2.0, 3.9, 4.0, 5.0, 2.2], 0.3', 'true']\n",
      "['[1.0, 2.0, 3.9, 4.0, 5.0, 2.2], 0.3', 'true']\n",
      "['[1.0, 2.0, 3.9, 4.0, 5.0, 2.2], 0.3', 'true']\n"
     ]
    }
   ],
   "source": [
    "file = open(\"./test_py.txt\", \"r\")\n",
    "\n",
    "for line in file:\n",
    "    py:list[str] = transformations.py(line)\n",
    "    print(py)\n"
   ]
  },
  {
   "cell_type": "code",
   "execution_count": null,
   "metadata": {},
   "outputs": [],
   "source": []
  }
 ],
 "metadata": {
  "kernelspec": {
   "display_name": "Python 3.10.5 64-bit",
   "language": "python",
   "name": "python3"
  },
  "language_info": {
   "codemirror_mode": {
    "name": "ipython",
    "version": 3
   },
   "file_extension": ".py",
   "mimetype": "text/x-python",
   "name": "python",
   "nbconvert_exporter": "python",
   "pygments_lexer": "ipython3",
   "version": "3.10.5"
  },
  "orig_nbformat": 4,
  "vscode": {
   "interpreter": {
    "hash": "e7370f93d1d0cde622a1f8e1c04877d8463912d04d973331ad4851f04de6915a"
   }
  }
 },
 "nbformat": 4,
 "nbformat_minor": 2
}
