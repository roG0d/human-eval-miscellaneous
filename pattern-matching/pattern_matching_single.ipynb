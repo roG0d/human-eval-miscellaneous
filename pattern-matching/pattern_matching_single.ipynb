{
 "cells": [
  {
   "cell_type": "code",
   "execution_count": 5,
   "metadata": {},
   "outputs": [],
   "source": [
    "#GOAL PYTHON\n",
    "# assert candidate([1.0, 2.0, 3.9, 4.0, 5.0, 2.2], 0.3) == True -> ([1.0, 2.0, 3.9, 4.0, 5.0, 2.2], 0.3), true\n",
    "\n",
    "#GOAL RUST\n",
    "#assert_eq!(candidate(&[1.0, 2.0, 3.9, 4.0, 5.0, 2.2], 0.3), true); -> ([1.0, 2.0, 3.9, 4.0, 5.0, 2.2], 0.3), true\n"
   ]
  },
  {
   "cell_type": "code",
   "execution_count": 6,
   "metadata": {},
   "outputs": [],
   "source": [
    "#DEFINING TYPEDDICT\n",
    "from typing import TypedDict\n",
    "\n",
    "class Asserts(TypedDict):\n",
    "    language: str\n",
    "    logical_expr: list[str]\n"
   ]
  },
  {
   "cell_type": "code",
   "execution_count": 7,
   "metadata": {},
   "outputs": [
    {
     "name": "stdout",
     "output_type": "stream",
     "text": [
      "([1.0, 2.0, 3.9, 4.0, 5.0, 2.2], 0.3) == True\n",
      "[1.0, 2.0, 3.9, 4.0, 5.0, 2.2], 0.3 \n",
      " true\n"
     ]
    }
   ],
   "source": [
    "#PYTHON\n",
    "raw:str = \"assert candidate([1.0, 2.0, 3.9, 4.0, 5.0, 2.2], 0.3) == True\"\n",
    "\n",
    "no_prefix: str = raw.replace(\"assert candidate\",\"\")\n",
    "print(no_prefix)\n",
    "\n",
    "no_prefix: str = no_prefix.replace(\"(\",\"\")\n",
    "no_prefix: str = no_prefix.replace(\")\",\"\")\n",
    "\n",
    "left,right = no_prefix.split(\"==\")\n",
    "print(left)\n",
    "print(right.lower())\n",
    "\n",
    "#Save into dict\n",
    "temp_l:list[str] = []\n",
    "temp_l.append(left)\n",
    "temp_l.append(right)\n",
    "\n",
    "\n"
   ]
  },
  {
   "cell_type": "code",
   "execution_count": 17,
   "metadata": {},
   "outputs": [
    {
     "name": "stdout",
     "output_type": "stream",
     "text": [
      "<class 'dict'>\n",
      "<class 'dict'>\n",
      "{'Python': ['[1.0, 2.0, 3.9, 4.0, 5.0, 2.2], 0.3', 'true']}\n"
     ]
    }
   ],
   "source": [
    "asserts:Asserts = {}\n",
    "print(type(asserts))\n",
    "asserts[\"Python\"] = temp_l\n",
    "print(type(asserts))\n",
    "print(asserts)"
   ]
  },
  {
   "cell_type": "code",
   "execution_count": 9,
   "metadata": {},
   "outputs": [
    {
     "name": "stdout",
     "output_type": "stream",
     "text": [
      "[1.0, 2.0, 3.9, 4.0, 5.0, 2.2], 0.3), true);\n",
      "[1.0, 2.0, 3.9, 4.0, 5.0, 2.2], 0.3\n",
      "true\n"
     ]
    }
   ],
   "source": [
    "#RUST\n",
    "raw:str = \"assert_eq!(candidate(&[1.0, 2.0, 3.9, 4.0, 5.0, 2.2], 0.3), true);\"\n",
    "\n",
    "no_prefix: str = raw.replace(\"assert_eq!(candidate(&\",\"\")\n",
    "print(no_prefix)\n",
    "\n",
    "left,right = no_prefix.split(\"), \")\n",
    "print(left)\n",
    "right = right.replace(\");\",\"\")\n",
    "print(right.lower())\n",
    "\n",
    "temp_l:list[str] = []\n",
    "temp_l.append(left)\n",
    "temp_l.append(right)\n",
    "\n"
   ]
  },
  {
   "cell_type": "code",
   "execution_count": 10,
   "metadata": {},
   "outputs": [
    {
     "name": "stdout",
     "output_type": "stream",
     "text": [
      "{'Python': ['[1.0, 2.0, 3.9, 4.0, 5.0, 2.2], 0.3 ', ' True'], 'Rust': ['[1.0, 2.0, 3.9, 4.0, 5.0, 2.2], 0.3', 'true']}\n"
     ]
    }
   ],
   "source": [
    "asserts[\"Rust\"] = temp_l\n",
    "print(asserts)"
   ]
  },
  {
   "cell_type": "code",
   "execution_count": 11,
   "metadata": {},
   "outputs": [
    {
     "name": "stdout",
     "output_type": "stream",
     "text": [
      "['[1.0, 2.0, 3.9, 4.0, 5.0, 2.2], 0.3 ', ' True']\n"
     ]
    }
   ],
   "source": [
    "#COMPARATION BETWEEN LANAGUAGES\n",
    "asserts[\"Python\"][0] == asserts[\"Rust\"][0]\n",
    "print(asserts[\"Python\"])"
   ]
  },
  {
   "cell_type": "code",
   "execution_count": 13,
   "metadata": {},
   "outputs": [
    {
     "data": {
      "text/plain": [
       "dict"
      ]
     },
     "execution_count": 13,
     "metadata": {},
     "output_type": "execute_result"
    }
   ],
   "source": [
    "type(asserts)"
   ]
  }
 ],
 "metadata": {
  "kernelspec": {
   "display_name": "Python 3.10.5 64-bit",
   "language": "python",
   "name": "python3"
  },
  "language_info": {
   "codemirror_mode": {
    "name": "ipython",
    "version": 3
   },
   "file_extension": ".py",
   "mimetype": "text/x-python",
   "name": "python",
   "nbconvert_exporter": "python",
   "pygments_lexer": "ipython3",
   "version": "3.10.5"
  },
  "orig_nbformat": 4,
  "vscode": {
   "interpreter": {
    "hash": "e7370f93d1d0cde622a1f8e1c04877d8463912d04d973331ad4851f04de6915a"
   }
  }
 },
 "nbformat": 4,
 "nbformat_minor": 2
}
